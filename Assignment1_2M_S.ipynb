{
  "nbformat": 4,
  "nbformat_minor": 0,
  "metadata": {
    "colab": {
      "provenance": []
    },
    "kernelspec": {
      "name": "python3",
      "display_name": "Python 3"
    },
    "language_info": {
      "name": "python"
    }
  },
  "cells": [
    {
      "cell_type": "code",
      "execution_count": 5,
      "metadata": {
        "colab": {
          "base_uri": "https://localhost:8080/"
        },
        "id": "0VJDq1O4vqzZ",
        "outputId": "36925af8-4ebb-4723-f81b-a276dc41dbd5"
      },
      "outputs": [
        {
          "output_type": "stream",
          "name": "stdout",
          "text": [
            "Enter The G:6.67\n",
            "Enter The M_earth:6.0\n",
            "Enter The m_moon:7.34\n",
            "Enter The R:3.84\n",
            "the result: 1.9920979817708333e+20\n"
          ]
        }
      ],
      "source": [
        "# Gravitational force is the attractive force that exists between two masses.\n",
        "# it can be calculated by using the following formaula:\n",
        "# write a code that accepts these constants as input and produces this output:\n",
        "g= float(input(\"Enter The G:\"))\n",
        "m_1= float(input(\"Enter The M_earth:\"))\n",
        "m_2= float(input(\"Enter The m_moon:\"))\n",
        "r= float(input(\"Enter The R:\"))\n",
        "print(\"the result:\", (g*10**-11)*(m_1*10**24)*(m_2*10**22)/(r*10**8)**2)\n"
      ]
    },
    {
      "cell_type": "code",
      "source": [
        "2# writ a program that prints the integers from 1 to 100.\n",
        "# but for multiples of three print \"Fizz\" instead of the number,\n",
        "# and for multiples of five print \"Buzz\".\n",
        "#for numbers which are multiples of both three and five print\"fizzbuzz\n",
        "\n",
        "for fizzbuzz in range(51):\n",
        "    if fizzbuzz % 3 == 0 and fizzbuzz % 5 == 0:\n",
        "       print(\"fizzbuzz\")\n",
        "       continue\n",
        "    elif fizzbuzz % 3 == 0:\n",
        "        print(\"fizz\")\n",
        "        continue\n",
        "    elif fizzbuzz % 5 == 0:\n",
        "        print(\"buzz\")\n",
        "        continue\n",
        "    print(fizzbuzz)"
      ],
      "metadata": {
        "colab": {
          "base_uri": "https://localhost:8080/"
        },
        "id": "T659Mmj8vvkb",
        "outputId": "8592a464-b215-4b54-e627-560534666da2"
      },
      "execution_count": 4,
      "outputs": [
        {
          "output_type": "stream",
          "name": "stdout",
          "text": [
            "fizzbuzz\n",
            "1\n",
            "2\n",
            "fizz\n",
            "4\n",
            "buzz\n",
            "fizz\n",
            "7\n",
            "8\n",
            "fizz\n",
            "buzz\n",
            "11\n",
            "fizz\n",
            "13\n",
            "14\n",
            "fizzbuzz\n",
            "16\n",
            "17\n",
            "fizz\n",
            "19\n",
            "buzz\n",
            "fizz\n",
            "22\n",
            "23\n",
            "fizz\n",
            "buzz\n",
            "26\n",
            "fizz\n",
            "28\n",
            "29\n",
            "fizzbuzz\n",
            "31\n",
            "32\n",
            "fizz\n",
            "34\n",
            "buzz\n",
            "fizz\n",
            "37\n",
            "38\n",
            "fizz\n",
            "buzz\n",
            "41\n",
            "fizz\n",
            "43\n",
            "44\n",
            "fizzbuzz\n",
            "46\n",
            "47\n",
            "fizz\n",
            "49\n",
            "buzz\n"
          ]
        }
      ]
    },
    {
      "cell_type": "code",
      "source": [],
      "metadata": {
        "id": "66pIyVymwOh5"
      },
      "execution_count": null,
      "outputs": []
    }
  ]
}