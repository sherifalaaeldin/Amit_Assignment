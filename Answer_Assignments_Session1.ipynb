{
  "nbformat": 4,
  "nbformat_minor": 0,
  "metadata": {
    "colab": {
      "provenance": []
    },
    "kernelspec": {
      "name": "python3",
      "display_name": "Python 3"
    },
    "language_info": {
      "name": "python"
    }
  },
  "cells": [
    {
      "cell_type": "code",
      "execution_count": null,
      "metadata": {
        "colab": {
          "base_uri": "https://localhost:8080/"
        },
        "id": "yI77nhKSFxK3",
        "outputId": "702af5c0-117e-4b38-ccc0-615fd95cfef2"
      },
      "outputs": [
        {
          "output_type": "stream",
          "name": "stdout",
          "text": [
            "<class 'int'>\n"
          ]
        }
      ],
      "source": [
        "# My Assignment_Session1\n",
        "# Exercise on Data Type\n",
        "x=5\n",
        "print(type(x))\n"
      ]
    },
    {
      "cell_type": "code",
      "source": [
        "x=\"Hello world\"\n",
        "print(type(x))"
      ],
      "metadata": {
        "colab": {
          "base_uri": "https://localhost:8080/"
        },
        "id": "wIYwpBGDKFLs",
        "outputId": "45ca17ce-a59c-4d18-8bc8-386b36ee7753"
      },
      "execution_count": null,
      "outputs": [
        {
          "output_type": "stream",
          "name": "stdout",
          "text": [
            "<class 'str'>\n"
          ]
        }
      ]
    },
    {
      "cell_type": "code",
      "source": [
        "x=20.5\n",
        "print(type(x))"
      ],
      "metadata": {
        "colab": {
          "base_uri": "https://localhost:8080/"
        },
        "id": "7ujrfkeSKX7J",
        "outputId": "e2faf05d-0a7d-46f6-ee49-787edf402697"
      },
      "execution_count": null,
      "outputs": [
        {
          "output_type": "stream",
          "name": "stdout",
          "text": [
            "<class 'float'>\n"
          ]
        }
      ]
    },
    {
      "cell_type": "code",
      "source": [
        "x=[\"apple\",\"banana\",\"chery\"]\n",
        "print(type(x))"
      ],
      "metadata": {
        "colab": {
          "base_uri": "https://localhost:8080/"
        },
        "id": "-UKSoWyqKjjw",
        "outputId": "59e0c2c8-d7eb-4e5c-b032-07d8908d115c"
      },
      "execution_count": null,
      "outputs": [
        {
          "output_type": "stream",
          "name": "stdout",
          "text": [
            "<class 'list'>\n"
          ]
        }
      ]
    },
    {
      "cell_type": "code",
      "source": [
        "x={\"name\":\"Jone\",\"age\":36}\n",
        "print(type(x))"
      ],
      "metadata": {
        "colab": {
          "base_uri": "https://localhost:8080/"
        },
        "id": "5b6VOEnoK8U9",
        "outputId": "9342a547-c2a5-4f08-bcc9-6e9b22c7cd4f"
      },
      "execution_count": null,
      "outputs": [
        {
          "output_type": "stream",
          "name": "stdout",
          "text": [
            "<class 'dict'>\n"
          ]
        }
      ]
    },
    {
      "cell_type": "code",
      "source": [
        "x=True\n",
        "print(type(x))"
      ],
      "metadata": {
        "colab": {
          "base_uri": "https://localhost:8080/"
        },
        "id": "aZRxPOF0L0RB",
        "outputId": "f0887a28-3480-4301-f748-5562628476a1"
      },
      "execution_count": null,
      "outputs": [
        {
          "output_type": "stream",
          "name": "stdout",
          "text": [
            "<class 'bool'>\n"
          ]
        }
      ]
    },
    {
      "cell_type": "code",
      "source": [
        "# Exercise on Numbers\n",
        "# Insert the correct syntax to convert x into a floating point number.\n",
        "x=5\n",
        "a=float(x)\n",
        "print(type(a))\n",
        "\n"
      ],
      "metadata": {
        "colab": {
          "base_uri": "https://localhost:8080/"
        },
        "id": "gSoA_CKhMA7v",
        "outputId": "ea0d293e-fbe5-41ed-fffd-9bc55c2edde5"
      },
      "execution_count": null,
      "outputs": [
        {
          "output_type": "stream",
          "name": "stdout",
          "text": [
            "<class 'float'>\n"
          ]
        }
      ]
    },
    {
      "cell_type": "code",
      "source": [
        "# Insert the correct syntax to convert x into a integer.\n",
        "x=5.5\n",
        "a=int(x)\n",
        "print(type(a))"
      ],
      "metadata": {
        "colab": {
          "base_uri": "https://localhost:8080/"
        },
        "id": "aG4WNJFhP4h0",
        "outputId": "e78caecb-1efb-4337-cbd6-2da54570a49a"
      },
      "execution_count": null,
      "outputs": [
        {
          "output_type": "stream",
          "name": "stdout",
          "text": [
            "<class 'int'>\n"
          ]
        }
      ]
    },
    {
      "cell_type": "code",
      "source": [
        "#Exercise on string\n",
        "# Use the len() function to print the length of the string\n",
        "x=\"Hello World\"\n",
        "print(len(x))"
      ],
      "metadata": {
        "colab": {
          "base_uri": "https://localhost:8080/"
        },
        "id": "lDnr6925RseV",
        "outputId": "f44156ee-674c-4e3f-9e53-e881e14afd26"
      },
      "execution_count": null,
      "outputs": [
        {
          "output_type": "stream",
          "name": "stdout",
          "text": [
            "11\n"
          ]
        }
      ]
    },
    {
      "cell_type": "code",
      "source": [
        "# Get the first character of the string txt.\n",
        "txt=\"Hello World\"\n",
        "x=txt[0]\n",
        "print(x)"
      ],
      "metadata": {
        "colab": {
          "base_uri": "https://localhost:8080/"
        },
        "id": "9Y_ojp6nSPbP",
        "outputId": "cb2d6bcd-f853-4035-8fbf-0c19d19638db"
      },
      "execution_count": null,
      "outputs": [
        {
          "output_type": "stream",
          "name": "stdout",
          "text": [
            "H\n"
          ]
        }
      ]
    },
    {
      "cell_type": "code",
      "source": [
        "# Get the characters from index 2 to index 4 (llo)\n",
        "txt=\"Hello World\"\n",
        "x=txt[2:5]\n",
        "print(x)\n"
      ],
      "metadata": {
        "colab": {
          "base_uri": "https://localhost:8080/"
        },
        "id": "IdTcLdmdS7RX",
        "outputId": "024d7849-806f-45e8-9eb0-2a36e7ed8995"
      },
      "execution_count": null,
      "outputs": [
        {
          "output_type": "stream",
          "name": "stdout",
          "text": [
            "llo\n"
          ]
        }
      ]
    },
    {
      "cell_type": "code",
      "source": [
        "# Return the string without any whitespace at the beginning or the end.\n",
        "txt=\"Hello World\"\n",
        "x=txt.strip()\n",
        "print(x)\n"
      ],
      "metadata": {
        "colab": {
          "base_uri": "https://localhost:8080/"
        },
        "id": "dJddY1rLUTtC",
        "outputId": "aeadc9ca-9e24-4bc3-e0c7-626d1520e530"
      },
      "execution_count": null,
      "outputs": [
        {
          "output_type": "stream",
          "name": "stdout",
          "text": [
            "Hello World\n"
          ]
        }
      ]
    },
    {
      "cell_type": "code",
      "source": [
        "# Convert the value of txt to lower case.\n",
        "txt=\"Hello World\"\n",
        "txt=txt.lower()\n",
        "print(txt)"
      ],
      "metadata": {
        "colab": {
          "base_uri": "https://localhost:8080/"
        },
        "id": "wytv9bEbWasb",
        "outputId": "1fb3062c-e156-413c-d2d7-39af764f59c7"
      },
      "execution_count": null,
      "outputs": [
        {
          "output_type": "stream",
          "name": "stdout",
          "text": [
            "hello world\n"
          ]
        }
      ]
    },
    {
      "cell_type": "code",
      "source": [
        "# Replace the characterH with a J\n",
        "txt=\"Hello World\"\n",
        "txt=txt.replace(\"H\",\"j\")\n",
        "print(txt)"
      ],
      "metadata": {
        "colab": {
          "base_uri": "https://localhost:8080/"
        },
        "id": "w_Qk3YyKXeBE",
        "outputId": "57f97658-6049-4aa0-e8d6-77d8a08b8492"
      },
      "execution_count": null,
      "outputs": [
        {
          "output_type": "stream",
          "name": "stdout",
          "text": [
            "jello World\n"
          ]
        }
      ]
    },
    {
      "cell_type": "code",
      "source": [
        "# Insert the correct syntax to add a placeholder for the age parameter.\n",
        "age=36\n",
        "txt=\"my name is Jone and I am{}\"\n",
        "print(txt.format(age))"
      ],
      "metadata": {
        "colab": {
          "base_uri": "https://localhost:8080/"
        },
        "id": "blz0PF5WY1Ns",
        "outputId": "f3eb6ea6-826e-43e0-99ac-7eb53c0f788b"
      },
      "execution_count": null,
      "outputs": [
        {
          "output_type": "stream",
          "name": "stdout",
          "text": [
            "my name is Jone and I am36\n"
          ]
        }
      ]
    },
    {
      "cell_type": "code",
      "source": [
        "# Exercise on Booleans\n",
        "# The statement below would print a Boolean value, which one?\n",
        "print(10>9)"
      ],
      "metadata": {
        "colab": {
          "base_uri": "https://localhost:8080/"
        },
        "id": "WYmWRRmBb6-0",
        "outputId": "14deb9c6-1967-478d-ae8a-ea21063ff63f"
      },
      "execution_count": null,
      "outputs": [
        {
          "output_type": "stream",
          "name": "stdout",
          "text": [
            "True\n"
          ]
        }
      ]
    },
    {
      "cell_type": "code",
      "source": [
        "# The statement below would print a Boolean value, which one?\n",
        "print(10==9)"
      ],
      "metadata": {
        "colab": {
          "base_uri": "https://localhost:8080/"
        },
        "id": "rximesSlc7lF",
        "outputId": "dc2c8eb4-40fe-47b4-f25a-f0413b8b8d63"
      },
      "execution_count": null,
      "outputs": [
        {
          "output_type": "stream",
          "name": "stdout",
          "text": [
            "False\n"
          ]
        }
      ]
    },
    {
      "cell_type": "code",
      "source": [
        "# The statement below would print a Boolean value, which one?\n",
        "print(10<9)"
      ],
      "metadata": {
        "colab": {
          "base_uri": "https://localhost:8080/"
        },
        "id": "rqhsvMGmdH_B",
        "outputId": "5c134f5b-d87f-407c-f3e2-52b917a99b61"
      },
      "execution_count": null,
      "outputs": [
        {
          "output_type": "stream",
          "name": "stdout",
          "text": [
            "False\n"
          ]
        }
      ]
    },
    {
      "cell_type": "code",
      "source": [
        "# Exercise-1\n",
        "# Write a Python program to print the following string in a specific format\n",
        "print(\"# Twinkle, twinkle, little star,\")\n",
        "print(\"# \tHow I wonder what you are!\")\n",
        "print(\"# \t\tUp above the world so high,\")\n",
        "print(\"# \t\tLike a diamond in the sky.\")\n",
        "print(\"# Twinkle, twinkle, little star,\")\n",
        "print(\"# \tHow I wonder what you are!\")"
      ],
      "metadata": {
        "id": "GeUb0DZwdUlS"
      },
      "execution_count": null,
      "outputs": []
    },
    {
      "cell_type": "code",
      "source": [
        "# Exercise-2\n",
        "txt=\"Hello World\"[::-1]\n",
        "print(txt)\n"
      ],
      "metadata": {
        "colab": {
          "base_uri": "https://localhost:8080/"
        },
        "id": "TBNTJJr_fmnr",
        "outputId": "263c837d-c29a-4589-b27a-f8e7b2265452"
      },
      "execution_count": null,
      "outputs": [
        {
          "output_type": "stream",
          "name": "stdout",
          "text": [
            "dlroW olleH\n"
          ]
        }
      ]
    },
    {
      "cell_type": "code",
      "source": [
        "# Exercise-3\n",
        "# Write a Python program that calculates the area of a circle and radius = 1.1\n",
        "import math as M\n",
        "Radius = float (input (\"Please enter the radius of the given circle: \"))\n",
        "area_of_the_circle = M.pi* Radius * Radius\n",
        "print (\" The area of the given circle is: \", area_of_the_circle)\n"
      ],
      "metadata": {
        "colab": {
          "base_uri": "https://localhost:8080/"
        },
        "id": "VTVGo1s5g-Tr",
        "outputId": "96b89d24-7b70-4fbe-c670-a8bb397cdf61"
      },
      "execution_count": null,
      "outputs": [
        {
          "output_type": "stream",
          "name": "stdout",
          "text": [
            "Please enter the radius of the given circle: 3\n",
            " The area of the given circle is:  28.274333882308138\n"
          ]
        }
      ]
    },
    {
      "cell_type": "code",
      "source": [
        "# Exercise-4\n",
        "# Write a Python program that accepts a filename from the user and prints the extension of the file.\n",
        "# Prompt the user to input a filename and store it in the 'filename' variable\n",
        "filename = input(\"Input the Filename: \")\n",
        "\n",
        "# Split the 'filename' string into a list using the period (.) as a separator and store it in the 'f_extns' variable\n",
        "f_extns = filename.split(\".\")\n",
        "\n",
        "# Print the extension of the file, which is the last element in the 'f_extns' list\n",
        "print(\"The extension of the file is : \" + repr(f_extns[-1]))\n"
      ],
      "metadata": {
        "id": "r50VyT4Pi5rt",
        "colab": {
          "base_uri": "https://localhost:8080/"
        },
        "outputId": "34ce5d5f-20bc-49ab-d69e-be1508706c3e"
      },
      "execution_count": null,
      "outputs": [
        {
          "output_type": "stream",
          "name": "stdout",
          "text": [
            "Input the Filename: sherif.gif\n",
            "The extension of the file is : 'gif'\n"
          ]
        }
      ]
    },
    {
      "cell_type": "code",
      "source": [
        "# Exercise-5\n",
        "# Covert from string to list and tuple value =\"Amit\"\n",
        "print(list(\"Amit\"))"
      ],
      "metadata": {
        "colab": {
          "base_uri": "https://localhost:8080/"
        },
        "id": "V7LGOnlFlSb9",
        "outputId": "0ec1c85d-a337-4a13-fc28-89e31b6e32eb"
      },
      "execution_count": null,
      "outputs": [
        {
          "output_type": "stream",
          "name": "stdout",
          "text": [
            "['A', 'm', 'i', 't']\n"
          ]
        }
      ]
    },
    {
      "cell_type": "code",
      "source": [
        "print(tuple(\"Amit\"))"
      ],
      "metadata": {
        "colab": {
          "base_uri": "https://localhost:8080/"
        },
        "id": "EIfAPzZont8c",
        "outputId": "618fdcd1-db4f-47a2-ef71-3b3afa848bb3"
      },
      "execution_count": null,
      "outputs": [
        {
          "output_type": "stream",
          "name": "stdout",
          "text": [
            "('A', 'm', 'i', 't')\n"
          ]
        }
      ]
    },
    {
      "cell_type": "code",
      "source": [
        "# After that\n",
        "# Replace the index 3 in the list\n",
        "x=\"Amit\"\n",
        "print(x.replace(\"i\",\"s\"))\n",
        "\n"
      ],
      "metadata": {
        "colab": {
          "base_uri": "https://localhost:8080/"
        },
        "id": "ZTX14IVhn3au",
        "outputId": "e2433188-b120-4654-c936-2c1963761d98"
      },
      "execution_count": null,
      "outputs": [
        {
          "output_type": "stream",
          "name": "stdout",
          "text": [
            "Amst\n"
          ]
        }
      ]
    },
    {
      "cell_type": "code",
      "source": [
        "# Convert the list to string and print the list\n",
        "list1=[\"1\",\"2\",\"4\",\"4\"]\n",
        "str1=\"\".join(list1)\n",
        "print(str1)"
      ],
      "metadata": {
        "colab": {
          "base_uri": "https://localhost:8080/"
        },
        "id": "5bzJb4LA6Uv3",
        "outputId": "7eb842aa-8c73-4aa5-ed06-bd679a08ea82"
      },
      "execution_count": null,
      "outputs": [
        {
          "output_type": "stream",
          "name": "stdout",
          "text": [
            "1244\n"
          ]
        }
      ]
    },
    {
      "cell_type": "code",
      "source": [
        "# Exercise-6\n",
        "# Write a Python program to display the first and last colors from the following list.\n",
        "color_list=[\"Red\",\"Green\",\"White\",\"Black\"]\n",
        "print(color_list[0],color_list[3])"
      ],
      "metadata": {
        "colab": {
          "base_uri": "https://localhost:8080/"
        },
        "id": "B_cvMke1DqiL",
        "outputId": "f74beeab-d6ce-4ce5-f0bd-d3a899805c21"
      },
      "execution_count": null,
      "outputs": [
        {
          "output_type": "stream",
          "name": "stdout",
          "text": [
            "Red Black\n"
          ]
        }
      ]
    },
    {
      "cell_type": "code",
      "source": [
        "print(\"#Sample Output:\")\n",
        "print(\"# a string that you don't have to escape\")\n",
        "print(\"# This\")\n",
        "print(\"# is a  ....... multi-line\")\n",
        "print(\"# heredoc string --------> example\")"
      ],
      "metadata": {
        "id": "FvUfeno2Gjnk",
        "colab": {
          "base_uri": "https://localhost:8080/"
        },
        "outputId": "0873b8ea-c5ff-4fa7-f781-c0227bfa8bfe"
      },
      "execution_count": null,
      "outputs": [
        {
          "output_type": "stream",
          "name": "stdout",
          "text": [
            "#Sample Output:\n",
            "# a string that you don't have to escape\n",
            "# This\n",
            "# is a  ....... multi-line\n",
            "# heredoc string --------> example\n"
          ]
        }
      ]
    },
    {
      "cell_type": "code",
      "source": [
        "# Exercise- 8\n",
        "# I need to check if link https://www.google.com/ strart with https or not and if the aimt4536@gmail.com end with .com\n",
        "from ast import If\n",
        "a=[\"https\",\"//www.\",\"google.\",\"com\"]\n",
        "b=(\"https\")\n",
        "x=a[0]\n",
        "print(\"URL: https://www.google.com\")\n",
        "b=input(\"Is This link start with?\")\n",
        "if b==x:\n",
        "  print(f\"This Link starts with https: true\")\n",
        "else :\n",
        " print(f\"this link starts with https: fulse\")"
      ],
      "metadata": {
        "colab": {
          "base_uri": "https://localhost:8080/"
        },
        "id": "G1zA3BDFIJ5-",
        "outputId": "a4ac35dc-dae9-49fb-ebba-13c129bc429a"
      },
      "execution_count": null,
      "outputs": [
        {
          "output_type": "stream",
          "name": "stdout",
          "text": [
            "URL: https://www.google.com\n",
            "Is This link start with?https\n",
            "This Link starts with https: true\n"
          ]
        }
      ]
    },
    {
      "cell_type": "code",
      "source": [
        "from ast import If\n",
        "a=[\"amit4536\",\"@gmail.\",\"com\"]\n",
        "b=(\"com\")\n",
        "x=a[2]\n",
        "print(\" The Email is amit4536@gmail.com\")\n",
        "b=input(\"Is this Email end with?\")\n",
        "if b==x:\n",
        "  print(f\"This Email ends with com: True\")\n",
        "else :\n",
        " print(f\"This Email ends with com: False\")"
      ],
      "metadata": {
        "id": "IpdnTe6vcDdH"
      },
      "execution_count": null,
      "outputs": []
    },
    {
      "cell_type": "markdown",
      "source": [],
      "metadata": {
        "id": "fBEiWMipEBcJ"
      }
    }
  ]
}