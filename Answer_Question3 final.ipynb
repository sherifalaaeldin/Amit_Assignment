{
  "nbformat": 4,
  "nbformat_minor": 0,
  "metadata": {
    "colab": {
      "provenance": []
    },
    "kernelspec": {
      "name": "python3",
      "display_name": "Python 3"
    },
    "language_info": {
      "name": "python"
    }
  },
  "cells": [
    {
      "cell_type": "code",
      "execution_count": null,
      "metadata": {
        "id": "Yjzc2gJsRFzT"
      },
      "outputs": [],
      "source": [
        "# 1) Multiply 10 with 5, and print the result."
      ]
    },
    {
      "cell_type": "code",
      "source": [
        "x=float(input(\"Enter The Frist Num: \"))\n",
        "z=float(input(\"Enter The Second Num: \"))\n",
        "print(f\"The Result is: {x*z}\")"
      ],
      "metadata": {
        "id": "FeygPCdYRvSS"
      },
      "execution_count": null,
      "outputs": []
    },
    {
      "cell_type": "code",
      "source": [
        "# 1) Multiply 10 with 5, and print the result.\n",
        "print(10*5)"
      ],
      "metadata": {
        "colab": {
          "base_uri": "https://localhost:8080/"
        },
        "id": "Wz8GugniRyHH",
        "outputId": "a7a09ced-0f15-4ac6-ee91-e42fbe4754af"
      },
      "execution_count": null,
      "outputs": [
        {
          "output_type": "stream",
          "name": "stdout",
          "text": [
            "50\n"
          ]
        }
      ]
    },
    {
      "cell_type": "code",
      "source": [
        "# 1) Multiply 10 with 5, and print the result.\n",
        "10*5\n"
      ],
      "metadata": {
        "id": "zzauHvYjSuQK"
      },
      "execution_count": null,
      "outputs": []
    },
    {
      "cell_type": "code",
      "source": [
        "# 2) Divide 10 by 2, and print the result."
      ],
      "metadata": {
        "id": "ftWkcodZS2Oi"
      },
      "execution_count": null,
      "outputs": []
    },
    {
      "cell_type": "code",
      "source": [
        "x=float(input(\"Enter The Frist Num: \"))\n",
        "z=float(input(\"Enter The Second Num: \"))\n",
        "print(f\"The Result is: {x/z}\")"
      ],
      "metadata": {
        "id": "g178d8bUTDCZ"
      },
      "execution_count": null,
      "outputs": []
    },
    {
      "cell_type": "code",
      "source": [
        "# 2) Divide 10 by 2, and print the result."
      ],
      "metadata": {
        "id": "Ze_zc6oLTFiu"
      },
      "execution_count": null,
      "outputs": []
    },
    {
      "cell_type": "code",
      "source": [
        "print(10/2)"
      ],
      "metadata": {
        "id": "INh4ZD3kTLyS"
      },
      "execution_count": null,
      "outputs": []
    },
    {
      "cell_type": "code",
      "source": [
        "# 3) Use the correct membership operator to check if \"apple\" is present in the fruits object"
      ],
      "metadata": {
        "id": "_1OYn5yXTQmV"
      },
      "execution_count": null,
      "outputs": []
    },
    {
      "cell_type": "code",
      "source": [
        "fruits_list=[\"apple\",\"banana\",\"cherry\"]\n",
        "if \"apple\" in fruits_list:\n",
        "  print(\"Yes apple in the fruits list\")"
      ],
      "metadata": {
        "id": "hiCd3RwDTYhv"
      },
      "execution_count": null,
      "outputs": []
    },
    {
      "cell_type": "code",
      "source": [
        "# 4)Use the correct comparison operator to check if 5 is not equal to 10.\n",
        "x=10\n",
        "z=5\n",
        "if x != z:\n",
        "  print(\"Yes: Five don't equale ten\")"
      ],
      "metadata": {
        "id": "-xuL8hiCTZCS"
      },
      "execution_count": null,
      "outputs": []
    },
    {
      "cell_type": "code",
      "source": [
        "# 5) Use the correct logical operator to check if at least one of two statements is True.\n",
        "x=15\n",
        "z=20\n",
        "y=20\n",
        "if x>=z or z==y:\n",
        "  print(\"At Least one of Two Statments is True\")\n"
      ],
      "metadata": {
        "id": "yR6Wb5XYU19x"
      },
      "execution_count": null,
      "outputs": []
    },
    {
      "cell_type": "code",
      "source": [
        "# 6) Print the second item in the fruits list.\n",
        "fruit_list1=[\"apple\",\"banana\",\"cherry\"]\n",
        "print(fruit_list1[1])"
      ],
      "metadata": {
        "id": "eV1-MY1gWoRq"
      },
      "execution_count": null,
      "outputs": []
    },
    {
      "cell_type": "code",
      "source": [
        "# 7) Change the value from \"apple\" to \"kiwi\", in the fruits list.\n",
        "fruit_list2=[\"apple\",\"cherry\",\"banana\"]\n",
        "fruit_list2[0]= \"kiwi\"\n",
        "print(fruit_list2)"
      ],
      "metadata": {
        "id": "rTLA_cyLYdcJ"
      },
      "execution_count": null,
      "outputs": []
    },
    {
      "cell_type": "code",
      "source": [
        "# 8) Change the value from \"apple\" to \"kiwi\", in the fruits list.\n",
        "fruit_list2[0].replace(\"apple\",\"kiwi\")\n",
        "print(fruit_list2)"
      ],
      "metadata": {
        "id": "uHW4A6RYZW4c"
      },
      "execution_count": null,
      "outputs": []
    },
    {
      "cell_type": "code",
      "source": [
        "# 9) Use the append method to add \"orange\" to the fruits list.\n",
        "fruit_list2.append(\"orange\")\n",
        "print(fruit_list2)"
      ],
      "metadata": {
        "id": "fjXOQy40Z76s"
      },
      "execution_count": null,
      "outputs": []
    },
    {
      "cell_type": "code",
      "source": [
        "# 10) Use the insert method to add \"lemon\" as the second item in the fruits list.\n",
        "fruit_list2.insert(1,\"lemon\")\n",
        "print(fruit_list2)"
      ],
      "metadata": {
        "id": "4vaSAmBiay9L"
      },
      "execution_count": null,
      "outputs": []
    },
    {
      "cell_type": "code",
      "source": [
        "# 11) Use the remove method to remove \"banana\" from the fruits list.\n",
        "fruit_list2.remove(\"banana\")\n",
        "print(fruit_list2)"
      ],
      "metadata": {
        "id": "1Cwi9pgAbSYh"
      },
      "execution_count": null,
      "outputs": []
    },
    {
      "cell_type": "code",
      "source": [
        "# 12) Use negative indexing to print the last item in the list\n",
        "m=[\"sherif\",\"amit\",\"learning\",\"powerbi\"]\n",
        "print(m[-1])"
      ],
      "metadata": {
        "id": "0CFuU1Mcl9LQ"
      },
      "execution_count": null,
      "outputs": []
    },
    {
      "cell_type": "code",
      "source": [
        "# 13) Use a range of indexes to print the third, fourth, and fifth item in the list.\n",
        "u=[1,2,5,6,7,8,9]\n",
        "print(u[2:5])"
      ],
      "metadata": {
        "id": "8EKZeuM0l94B"
      },
      "execution_count": null,
      "outputs": []
    },
    {
      "cell_type": "code",
      "source": [
        "# 14) Use the correct syntax to print the number of items in the list.\n",
        "list=[\"cherry\",\"apple\",\"orange\",\"banana\"]\n",
        "print(len(list))"
      ],
      "metadata": {
        "id": "ABcL3TNLm2ND"
      },
      "execution_count": null,
      "outputs": []
    },
    {
      "cell_type": "code",
      "source": [
        "# 15) Write a Python program to print all even numbers from a given list of numbers in the same order and stop printing any after 237 in the sequence.\n",
        "list_2=[386, 462, 47, 418, 907, 344, 236, 375, 823, 566, 597, 978, 328, 615, 953, 345,\n",
        "399, 162, 758, 219, 918, 237, 412, 566, 826, 248, 866, 950, 626, 949, 687, 217,\n",
        "815, 67, 104, 58, 512, 24, 892, 894, 767, 553, 81, 379, 843, 831, 445, 742, 717,\n",
        "958,743, 527]\n",
        "for i in list_2:\n",
        "  if i==412:\n",
        "    break\n",
        "  print(i)"
      ],
      "metadata": {
        "id": "HwzMLNavn4KY"
      },
      "execution_count": null,
      "outputs": []
    },
    {
      "cell_type": "code",
      "source": [
        "# 16) Write a Python program that will accept the base and height of a triangle and compute its area.\n",
        "x=float(input(\"Enter The Base: \"))\n",
        "z=float(input(\"Enter The Height\"))\n",
        "area= x*z/2\n",
        "print(f\"The area of The Triangle Is: {area}\")\n"
      ],
      "metadata": {
        "id": "O3CbXSbTpPHr"
      },
      "execution_count": null,
      "outputs": []
    },
    {
      "cell_type": "code",
      "source": [
        "# 17) Sort three integers without using conditional statements\n",
        "first_1=float(input(\"Enter The First Number: \"))\n",
        "second_1=float(input(\"Enter The Second Number: \"))\n",
        "third_1=float(input(\"Enter the Third Number: \"))\n",
        "x1=max(first_1,second_1,third_1)\n",
        "x3=min(first_1,second_1,third_1)\n",
        "x2=(first_1+second_1+third_1) - first_1 -second_1\n",
        "print(f\"Numbers in sorted: {x1},{x2},{x3}\")"
      ],
      "metadata": {
        "id": "FFW_M8oAWFI_"
      },
      "execution_count": null,
      "outputs": []
    },
    {
      "cell_type": "code",
      "source": [
        "# 18) Sort three integers :using conditional statements\n",
        "first_1=int(input(\"Enter The First Number: \"))\n",
        "secon_1=int(input(\"Enter The Second Number: \"))\n",
        "third_1=int(input(\"Enter the Third Number: \"))\n",
        "if first_1 > second_1 and  second_1> third_1:\n",
        "  print(f\"The Sort Three Integers: {first_1},{second_1},{third_1}\")\n",
        "else:\n",
        "  print(\"This is an Error: \")\n",
        "\n"
      ],
      "metadata": {
        "id": "MSRxwEzHZOOO"
      },
      "execution_count": null,
      "outputs": []
    },
    {
      "cell_type": "code",
      "source": [
        "10# 19) Write a Python function that takes a sequence of numbers and determines whether all the numbers are different from each other.\n",
        "# Define a function named test_distinct that takes a list 'data' as a parameter.\n",
        "def test_distinct(data):\n",
        "    # Check if the length of the list is equal to the length of the set created from the list.\n",
        "    if len(data) == len(set(data)):\n",
        "        # If the lengths are equal, it means all elements in the list are distinct.\n",
        "        return True\n",
        "    else:\n",
        "        # If the lengths are not equal, there are duplicate elements in the list.\n",
        "        return False\n",
        "\n",
        "# Call the test_distinct function with a list [1, 5, 7, 9] and print the result.\n",
        "print(test_distinct([1, 5, 7, 9]))\n",
        "\n",
        "# Call the test_distinct function with a list [2, 4, 5, 5, 7, 9] and print the result.\n",
        "print(test_distinct([2, 4, 5, 5, 7, 9]))"
      ],
      "metadata": {
        "id": "8VrNuoxli6lK"
      },
      "execution_count": null,
      "outputs": []
    },
    {
      "cell_type": "code",
      "source": [
        "# My Task\n",
        "def add(x,y):\n",
        "  return x+y\n",
        "def subtract(x,y):\n",
        "  return x-y\n",
        "def divide(x,y):\n",
        "  return x/y\n",
        "def multy(x,y):\n",
        "  return x*y\n",
        "choice=float(input(\"enter choice(1,2,3,4)\"))\n",
        "num1=float(input(\"enter first number\"))\n",
        "num2=float(input(\"enter second number\"))\n",
        "if choice ==1:\n",
        "    print(num1,\"+\",num2,\"=\",add(num1,num2))\n",
        "elif choice ==2:\n",
        "    print(num1,\"-\",num2,\"=\",subtract(num1,num2))\n",
        "elif choice ==3:\n",
        "    print(num1,\"/\",num2,\"=\",divide(num1,num2))\n",
        "elif choice ==4:\n",
        "    print(num1,\"*\",num2,\"=\",multy(num1,num2))"
      ],
      "metadata": {
        "id": "Bs-5fDCxlRWT"
      },
      "execution_count": null,
      "outputs": []
    }
  ]
}