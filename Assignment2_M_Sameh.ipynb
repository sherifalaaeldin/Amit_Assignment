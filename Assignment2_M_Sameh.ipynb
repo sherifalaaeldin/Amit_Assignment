{
  "nbformat": 4,
  "nbformat_minor": 0,
  "metadata": {
    "colab": {
      "provenance": []
    },
    "kernelspec": {
      "name": "python3",
      "display_name": "Python 3"
    },
    "language_info": {
      "name": "python"
    }
  },
  "cells": [
    {
      "cell_type": "code",
      "execution_count": 3,
      "metadata": {
        "colab": {
          "base_uri": "https://localhost:8080/"
        },
        "id": "UTo6gevMgXtT",
        "outputId": "ff920623-c387-47df-f988-d6d208c1a322"
      },
      "outputs": [
        {
          "output_type": "stream",
          "name": "stdout",
          "text": [
            "Enter Your Frist NO.:10\n",
            "Enter Your Second NO.:20\n",
            "The Addition of Your Input:30.0\n",
            "The Subraction of Your Input:-10.0\n",
            "The Multiplication of Your Input:200.0\n",
            "The Division of Your Input:0.5\n"
          ]
        }
      ],
      "source": [
        "#calculator\n",
        "#1-addition\n",
        "#2-subtraction\n",
        "#3-multiplication\n",
        "#4-division\n",
        "#5-even odd\n",
        "#6-factorial\n",
        "#7-fibonacci\n",
        "F_NO=float(input(\"Enter Your Frist NO.:\"))\n",
        "S_NO=float(input(\"Enter Your Second NO.:\"))\n",
        "print(f\"The Addition of Your Input:{F_NO+S_NO}\")\n",
        "print(f\"The Subraction of Your Input:{F_NO-S_NO}\")\n",
        "print(f\"The Multiplication of Your Input:{F_NO*S_NO}\")\n",
        "print(f\"The Division of Your Input:{F_NO/S_NO}\")\n"
      ]
    },
    {
      "cell_type": "code",
      "source": [
        "y= [int(x) for x in input(\"enter your numbers\").split() if int(x)%2 == 0]\n",
        "print(y)\n",
        "print(sum(y))"
      ],
      "metadata": {
        "colab": {
          "base_uri": "https://localhost:8080/"
        },
        "id": "cNha2Z7xhcaV",
        "outputId": "1545d40b-0773-4861-9dd6-5171a306ff5e"
      },
      "execution_count": 5,
      "outputs": [
        {
          "output_type": "stream",
          "name": "stdout",
          "text": [
            "enter your numbers1 2 3 5 10 8\n",
            "[2, 10, 8]\n",
            "20\n"
          ]
        }
      ]
    },
    {
      "cell_type": "code",
      "source": [
        "def factorial(y):\n",
        "  if y == 1 or y ==0:\n",
        "    return 1\n",
        "  else:\n",
        "    return y*factorial(y-1)\n",
        "\n",
        "factorial(20)"
      ],
      "metadata": {
        "colab": {
          "base_uri": "https://localhost:8080/"
        },
        "id": "svaXkH0djiAE",
        "outputId": "39b9bebb-6524-49db-abeb-6995f7c2c7d1"
      },
      "execution_count": 8,
      "outputs": [
        {
          "output_type": "execute_result",
          "data": {
            "text/plain": [
              "2432902008176640000"
            ]
          },
          "metadata": {},
          "execution_count": 8
        }
      ]
    },
    {
      "cell_type": "code",
      "source": [
        "# import random module\n",
        "import random\n",
        "# print multiline instruction\n",
        "# performstring concatenation of string\n",
        "print('Winning rules of the game ROCK PAPER SCISSORS are :\\n'\n",
        "      + \"Rock vs Paper -> Paper wins \\n\"\n",
        "      + \"Rock vs Scissors -> Rock wins \\n\"\n",
        "      + \"Paper vs Scissors -> Scissor wins \\n\")\n",
        "\n",
        "while True:\n",
        "\n",
        "    print(\"Enter your choice \\n 1 - Rock \\n 2 - Paper \\n 3 - Scissors \\n\")\n",
        "\n",
        "    # take the input from user\n",
        "\n",
        "    choice = int(input(\"Enter your choice :\"))\n",
        "\n",
        "    # OR is the short-circuit operator\n",
        "    # if any one of the condition is true\n",
        "    # then it return True value\n",
        "\n",
        "    # looping until user enter invalid input\n",
        "    while choice > 3 or choice < 1:\n",
        "        choice = int(input('Enter a valid choice please ☺'))\n",
        "\n",
        "        # initialize value of choice_name variable\n",
        "    # corresponding to the choice value\n",
        "    if choice == 1:\n",
        "        choice_name = 'Rock'\n",
        "    elif choice == 2:\n",
        "        choice_name = 'Paper'\n",
        "    else:\n",
        "        choice_name = 'Scissors'\n",
        "\n",
        "\n",
        "    print('User choice is \\n', choice_name)\n",
        "    print('Now its Computers Turn....')\n",
        "\n",
        "\n",
        "    comp_choice = random.randint(1, 3)\n",
        "\n",
        "\n",
        "    while comp_choice == choice:\n",
        "        comp_choice = random.randint(1, 3)\n",
        "\n",
        "\n",
        "    if comp_choice == 1:\n",
        "        comp_choice_name = 'RocK'\n",
        "    elif comp_choice == 2:\n",
        "        comp_choice_name = 'Paper'\n",
        "    else:\n",
        "        comp_choice_name = 'Scissors'\n",
        "    print(\"Computer choice is \\n\", comp_choice_name)\n",
        "    print(choice_name, 'Vs', comp_choice_name)\n",
        "\n",
        "    if choice == comp_choice:\n",
        "        print('Its a Draw', end=\"\")\n",
        "        result = \"DRAW\"\n",
        "\n",
        "    if (choice == 1 and comp_choice == 2):\n",
        "        print('paper wins =>', end=\"\")\n",
        "        result = 'Paper'\n",
        "    elif (choice == 2 and comp_choice == 1):\n",
        "        print('paper wins =>', end=\"\")\n",
        "        result = 'Paper'\n",
        "\n",
        "    if (choice == 1 and comp_choice == 3):\n",
        "        print('Rock wins =>\\n', end=\"\")\n",
        "        result = 'Rock'\n",
        "    elif (choice == 3 and comp_choice == 1):\n",
        "        print('Rock wins =>\\n', end=\"\")\n",
        "        result = 'RocK'\n",
        "\n",
        "    if (choice == 2 and comp_choice == 3):\n",
        "        print('Scissors wins =>', end=\"\")\n",
        "        result = 'Scissors'\n",
        "    elif (choice == 3 and comp_choice == 2):\n",
        "        print('Scissors wins =>', end=\"\")\n",
        "        result = 'Rock'\n",
        "\n",
        "    if result == 'DRAW':\n",
        "        print(\"<== Its a tie ==>\")\n",
        "    if result == choice_name:\n",
        "        print(\"<== User wins ==>\")\n",
        "    else:\n",
        "        print(\"<== Computer wins ==>\")\n",
        "    print(\"Do you want to play again? (Y/N)\")\n",
        "\n",
        "    ans = input().lower()\n",
        "    if ans == 'n':\n",
        "        break\n",
        "\n"
      ],
      "metadata": {
        "colab": {
          "base_uri": "https://localhost:8080/"
        },
        "id": "-Cm5xYqTmqaI",
        "outputId": "e43f58cb-fea1-45d5-f15a-8866853635b8"
      },
      "execution_count": null,
      "outputs": [
        {
          "output_type": "stream",
          "name": "stdout",
          "text": [
            "Winning rules of the game ROCK PAPER SCISSORS are :\n",
            "Rock vs Paper -> Paper wins \n",
            "Rock vs Scissors -> Rock wins \n",
            "Paper vs Scissors -> Scissor wins \n",
            "\n",
            "Enter your choice \n",
            " 1 - Rock \n",
            " 2 - Paper \n",
            " 3 - Scissors \n",
            "\n"
          ]
        }
      ]
    },
    {
      "cell_type": "code",
      "source": [],
      "metadata": {
        "id": "rZtq5Xu3n_0s"
      },
      "execution_count": null,
      "outputs": []
    }
  ]
}