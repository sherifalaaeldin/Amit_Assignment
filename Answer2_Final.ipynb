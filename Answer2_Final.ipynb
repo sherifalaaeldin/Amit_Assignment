{
  "nbformat": 4,
  "nbformat_minor": 0,
  "metadata": {
    "colab": {
      "provenance": []
    },
    "kernelspec": {
      "name": "python3",
      "display_name": "Python 3"
    },
    "language_info": {
      "name": "python"
    }
  },
  "cells": [
    {
      "cell_type": "code",
      "execution_count": null,
      "metadata": {
        "id": "v4ByJoiEjdSF"
      },
      "outputs": [],
      "source": [
        "# 1) Write a program to print the maximum between two numbers.\n",
        "x=float(input(\"Enter the First Number\"))\n",
        "y=float(input(\"Enter the Seconde Number\"))\n",
        "z=max(x,y)\n",
        "print(f\"The maximum number between A , B is: {z}\")"
      ]
    },
    {
      "cell_type": "code",
      "source": [
        "# 2) Write a program to find the maximum between three numbers.\n",
        "x=float(input(\"Enter the First Number\"))\n",
        "y=float(input(\"Enter the Seconde Number\"))\n",
        "s=float(input(\"Enter the Three Number\"))\n",
        "z=max(x,y,s)\n",
        "print(f\"The maximum number between A , B , C is: {z}\")"
      ],
      "metadata": {
        "id": "zbejl2GFkHdl"
      },
      "execution_count": null,
      "outputs": []
    },
    {
      "cell_type": "code",
      "source": [
        "# 3) Write a program to check whether a number is negative, or positive\n",
        "num_1=float(input(\"Enter Your Number\"))\n",
        "if num_1 >=1:\n",
        "  print(\"Your Number is Negative\")\n",
        "else:\n",
        "  print(\"Your Number is Positive\")\n"
      ],
      "metadata": {
        "id": "jD3ArVs1kd8a"
      },
      "execution_count": null,
      "outputs": []
    },
    {
      "cell_type": "code",
      "source": [
        "# 4) Write a program to check whether a number is even or odd .\n",
        "num_1=float(input(\"Enter Your Number\"))\n",
        "if num_1 % 2 ==0:\n",
        "  print(\"Your Number is Even\")\n",
        "else:\n",
        "  print(\"Your Number is Odd\")"
      ],
      "metadata": {
        "id": "22n-S6cNkuvx"
      },
      "execution_count": null,
      "outputs": []
    },
    {
      "cell_type": "code",
      "source": [
        "# 5) Write a program to store the weekdays in a list and access the week day and print it by index.\n",
        "week_day=[\"Saturday\",\"Sunday\",\"Monday\",\"Tuesday\",\"Wednesday\",\"Thursday\",\"Friday\"]\n",
        "print(week_day[0])\n",
        "print(week_day[1])\n",
        "print(week_day[2])\n",
        "print(week_day[3])\n",
        "print(week_day[4])\n",
        "print(week_day[5])\n",
        "print(week_day[6])"
      ],
      "metadata": {
        "id": "QwzNFqilNnAa"
      },
      "execution_count": null,
      "outputs": []
    },
    {
      "cell_type": "code",
      "source": [
        "# 5) Write a program to store the weekdays in a list and access the week day and print it by index.\n",
        "week_day=[\"Sutrday\",\"Sunday\",\"Monday\",\"Tuesday\",\"Wednesday\",\"Thursday\",\"Friday\"]\n",
        "z=str(input(\"Enter The Day \"))\n",
        "if z==\"sutrday\":\n",
        "  print(f\"The Day you are intering from this list and it is : {week_day[0]}\")\n",
        "elif z==\"sunday\":\n",
        "  print(f\"The Day you are intering from this list and it is : {week_day[1]}\")\n",
        "elif z==\"monday\":\n",
        "  print(f\"The Day you are intering from this list and it is : {week_day[2]}\")\n",
        "elif z==\"tuesday\":\n",
        "  print(f\"The Day you are intering from this list and it is : {week_day[3]}\")\n",
        "elif z==\"wednesday\":\n",
        "  print(f\"The Day you are intering from this list and it is : {week_day[4]}\")\n",
        "elif z==\"thursday\":\n",
        "  print(f\"The Day you are intering from this list and it is : {week_day[5]}\")\n",
        "elif z==\"friday\":\n",
        "  print(f\"The Day your are intering from this list and it is : {week_day[6]}\")\n",
        "else:\n",
        "  print('enter a valid day')"
      ],
      "metadata": {
        "id": "wqsdH-omBa50"
      },
      "execution_count": null,
      "outputs": []
    },
    {
      "cell_type": "code",
      "source": [
        "# 6)Write a program to store numbers in the List and print its reverse\n",
        "list_1=[1,2,3,4,5,6,7]\n",
        "list_1.reverse()\n",
        "print(list_1)"
      ],
      "metadata": {
        "colab": {
          "base_uri": "https://localhost:8080/"
        },
        "id": "c1UI8g-ZPKVm",
        "outputId": "c7eec09a-551c-498a-9988-6645126f60fe"
      },
      "execution_count": null,
      "outputs": [
        {
          "output_type": "stream",
          "name": "stdout",
          "text": [
            "[7, 6, 5, 4, 3, 2, 1]\n"
          ]
        }
      ]
    },
    {
      "cell_type": "code",
      "source": [],
      "metadata": {
        "id": "ie9iSzS9rMzX"
      },
      "execution_count": null,
      "outputs": []
    }
  ]
}